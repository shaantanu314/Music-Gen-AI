{
 "cells": [
  {
   "cell_type": "code",
   "execution_count": 1,
   "metadata": {
    "id": "T-B-9mT_dkDw"
   },
   "outputs": [],
   "source": [
    "from music21 import *\n",
    "import os \n",
    "import numpy as np\n",
    "import matplotlib.pyplot as plt\n",
    "from Utilities.midi_helper import *\n",
    "import matplotlib.pyplot as plt\n",
    "import Generate_dataset"
   ]
  },
  {
   "cell_type": "code",
   "execution_count": 2,
   "metadata": {
    "colab": {
     "base_uri": "https://localhost:8080/"
    },
    "id": "36e0e7oRjjdG",
    "outputId": "7a97d4e3-d75e-4c4e-8725-3fb6380cefa4",
    "scrolled": true
   },
   "outputs": [
    {
     "name": "stdout",
     "output_type": "stream",
     "text": [
      "Loading Music File: ./schubert/schub_d760_1.mid\n"
     ]
    }
   ],
   "source": [
    "#specify the path\n",
    "path='./schubert/'\n",
    "\n",
    "#read all the filenames\n",
    "files=[i for i in os.listdir(path) if i.endswith(\".mid\")]\n",
    "\n",
    "#reading each midi file\n",
    "notes_array = np.array([read_midi(path+files[0])])\n",
    "# notes_array = np.array([read_midi(path+i) for i in files])"
   ]
  },
  {
   "cell_type": "code",
   "execution_count": 3,
   "metadata": {},
   "outputs": [],
   "source": [
    "x_seq , y_seq , unique_notes,note_to_int  = Generate_dataset.get_sequences(notes_array,32)"
   ]
  },
  {
   "cell_type": "markdown",
   "metadata": {
    "id": "xJmdQ95isFGQ"
   },
   "source": [
    "**Testing the Model by training sinosoids**\n",
    "\n",
    "\n",
    "\n",
    "*   Uncomment the code chunk below to test o sinosoids \n",
    "*   dont run above code if training for sinosoids. Variable names are mostly same\n",
    "\n"
   ]
  },
  {
   "cell_type": "code",
   "execution_count": null,
   "metadata": {
    "id": "wxaFU5Q8siEX"
   },
   "outputs": [],
   "source": [
    "time = np.linspace(1,10,10000)\n",
    "# print(time)\n",
    "y = np.sin(20*time)\n",
    "# plt.figure();\n",
    "# plt.plot(y)\n",
    "func = np.round(y,decimals=2)\n",
    "# print(y[:100])\n",
    "no_of_timesteps = 32\n",
    "x = []\n",
    "y = []\n",
    "\n",
    "\n",
    "for i in range(0, len(func) - no_of_timesteps-1, 1):\n",
    "    \n",
    "    #preparing input and output sequences\n",
    "    input_ = func[i:i + no_of_timesteps]\n",
    "    output = func[i+no_of_timesteps+1]\n",
    "    \n",
    "    x.append(input_)\n",
    "    y.append(output)\n",
    "        \n",
    "x=np.array(x)\n",
    "y=np.array(y)\n",
    "\n",
    "unique_x = list(set(x.ravel()))\n",
    "x_note_to_int = dict((note_, number) for number, note_ in enumerate(unique_x))\n",
    "x_seq=[]\n",
    "for i in x:\n",
    "    temp=[]\n",
    "    for j in i:\n",
    "        #assigning unique integer to every note\n",
    "        temp.append(x_note_to_int[j])\n",
    "    x_seq.append(temp)\n",
    "    \n",
    "x_seq = np.array(x_seq)\n",
    "\n",
    "unique_y = list(set(y))\n",
    "y_note_to_int = dict((note_, number) for number, note_ in enumerate(unique_y)) \n",
    "y_seq=np.array([x_note_to_int[i] for i in y])\n"
   ]
  },
  {
   "cell_type": "code",
   "execution_count": 4,
   "metadata": {
    "id": "aZYxAX17mwp6"
   },
   "outputs": [],
   "source": [
    "import torch\n",
    "from torch import tensor\n",
    "import torch.nn as nn\n",
    "import torch.optim as optim\n",
    "import tensorflow as tf\n",
    "import torch.nn.functional as F\n",
    "import math"
   ]
  },
  {
   "cell_type": "code",
   "execution_count": 5,
   "metadata": {},
   "outputs": [],
   "source": [
    "from MusicDataset import *"
   ]
  },
  {
   "cell_type": "code",
   "execution_count": 6,
   "metadata": {
    "id": "aO_up_-TwhM2"
   },
   "outputs": [],
   "source": [
    "from sklearn.model_selection import train_test_split\n",
    "x_tr, x_val, y_tr, y_val = train_test_split(x_seq,y_seq,test_size=0.2,random_state=0)"
   ]
  },
  {
   "cell_type": "code",
   "execution_count": 7,
   "metadata": {
    "id": "YIqpdgrYzPe-"
   },
   "outputs": [],
   "source": [
    "batch_size = 8\n",
    "train_set = MusicDataset(x_tr,y_tr)\n",
    "trainloader = torch.utils.data.DataLoader(train_set, batch_size=batch_size,\n",
    "                                         shuffle=False, num_workers=2)"
   ]
  },
  {
   "cell_type": "code",
   "execution_count": 8,
   "metadata": {
    "id": "rn3ZuUPPT38F"
   },
   "outputs": [],
   "source": [
    "val_set = MusicDataset(x_val,y_val)\n",
    "validationloader = torch.utils.data.DataLoader(val_set, batch_size=1,\n",
    "                                         shuffle=False, num_workers=2)"
   ]
  },
  {
   "cell_type": "markdown",
   "metadata": {
    "id": "0bxVZde_utFh"
   },
   "source": [
    "**DataLoader**"
   ]
  },
  {
   "cell_type": "markdown",
   "metadata": {
    "id": "NnaW5q-HtI4E"
   },
   "source": [
    "**For Wavenet Model (Ignore for now)**"
   ]
  },
  {
   "cell_type": "code",
   "execution_count": 12,
   "metadata": {
    "id": "36aRUJG6Fx_p"
   },
   "outputs": [],
   "source": [
    "from Models import Wavenet\n",
    "Net = Wavenet.Wavenet(len(unique_notes),blocks=4,layers = 2)"
   ]
  },
  {
   "cell_type": "markdown",
   "metadata": {
    "id": "RARksamCtA7X"
   },
   "source": [
    "**Checking the model**"
   ]
  },
  {
   "cell_type": "code",
   "execution_count": null,
   "metadata": {
    "id": "-16lwuo0eQc2"
   },
   "outputs": [],
   "source": [
    "# Net = Sequence(len(unique_x),32);\n",
    "# input = torch.zeros(1,x_tr[0].shape[0],dtype=torch.int32);\n",
    "# input[0,:] = torch.IntTensor(x_tr[0])\n",
    "# # input = input.permute(0,2,1)\n",
    "\n",
    "# outputs = Net(input)\n",
    "# print(outputs.shape)"
   ]
  },
  {
   "cell_type": "code",
   "execution_count": 13,
   "metadata": {
    "id": "X01XYRS83ByK"
   },
   "outputs": [],
   "source": [
    "# Net = Sequence(len(unique_x),32);\n",
    "\n",
    "import torch.optim as optim\n",
    "criterion = nn.CrossEntropyLoss()\n",
    "optimizer = torch.optim.Adam(Net.parameters(), lr=0.001, betas=(0.9, 0.999), eps=1e-08, weight_decay=0, amsgrad=False)\n",
    "loss_history = []"
   ]
  },
  {
   "cell_type": "markdown",
   "metadata": {
    "id": "0-cyi3j7tSG3"
   },
   "source": [
    "**Use the line below when you want to change learning parameters in between**"
   ]
  },
  {
   "cell_type": "code",
   "execution_count": null,
   "metadata": {
    "id": "N5Ft64xRCpNF"
   },
   "outputs": [],
   "source": [
    "optimizer = torch.optim.Adam(Net.parameters(), lr=0.0001, betas=(0.9, 0.999), eps=1e-08, weight_decay=0, amsgrad=False)"
   ]
  },
  {
   "cell_type": "code",
   "execution_count": 14,
   "metadata": {
    "id": "45TGOH7G1mvF"
   },
   "outputs": [
    {
     "name": "stdout",
     "output_type": "stream",
     "text": [
      "correct predictions  : 90 \n",
      " total predictions : 942 \n",
      " Accuracy : 9.554140090942383\n",
      "correct predictions  : 94 \n",
      " total predictions : 942 \n",
      " Accuracy : 9.978768348693848\n",
      "correct predictions  : 126 \n",
      " total predictions : 942 \n",
      " Accuracy : 13.3757963180542\n",
      "correct predictions  : 128 \n",
      " total predictions : 942 \n",
      " Accuracy : 13.58811092376709\n",
      "correct predictions  : 137 \n",
      " total predictions : 942 \n",
      " Accuracy : 14.543524742126465\n",
      "correct predictions  : 140 \n",
      " total predictions : 942 \n",
      " Accuracy : 14.8619966506958\n",
      "correct predictions  : 144 \n",
      " total predictions : 942 \n",
      " Accuracy : 15.286624908447266\n",
      "correct predictions  : 145 \n",
      " total predictions : 942 \n",
      " Accuracy : 15.392782211303711\n",
      "correct predictions  : 144 \n",
      " total predictions : 942 \n",
      " Accuracy : 15.286624908447266\n",
      "correct predictions  : 145 \n",
      " total predictions : 942 \n",
      " Accuracy : 15.392782211303711\n",
      "correct predictions  : 144 \n",
      " total predictions : 942 \n",
      " Accuracy : 15.286624908447266\n",
      "correct predictions  : 145 \n",
      " total predictions : 942 \n",
      " Accuracy : 15.392782211303711\n",
      "correct predictions  : 149 \n",
      " total predictions : 942 \n",
      " Accuracy : 15.81740951538086\n",
      "correct predictions  : 156 \n",
      " total predictions : 942 \n",
      " Accuracy : 16.560510635375977\n",
      "correct predictions  : 149 \n",
      " total predictions : 942 \n",
      " Accuracy : 15.81740951538086\n",
      "correct predictions  : 154 \n",
      " total predictions : 942 \n",
      " Accuracy : 16.348194122314453\n",
      "correct predictions  : 140 \n",
      " total predictions : 942 \n",
      " Accuracy : 14.8619966506958\n",
      "correct predictions  : 154 \n",
      " total predictions : 942 \n",
      " Accuracy : 16.348194122314453\n",
      "correct predictions  : 162 \n",
      " total predictions : 942 \n",
      " Accuracy : 17.197452545166016\n",
      "correct predictions  : 158 \n",
      " total predictions : 942 \n",
      " Accuracy : 16.772823333740234\n",
      "correct predictions  : 162 \n",
      " total predictions : 942 \n",
      " Accuracy : 17.197452545166016\n",
      "correct predictions  : 164 \n",
      " total predictions : 942 \n",
      " Accuracy : 17.409765243530273\n",
      "correct predictions  : 168 \n",
      " total predictions : 942 \n",
      " Accuracy : 17.834394454956055\n",
      "correct predictions  : 176 \n",
      " total predictions : 942 \n",
      " Accuracy : 18.683650970458984\n",
      "correct predictions  : 181 \n",
      " total predictions : 942 \n",
      " Accuracy : 19.21443748474121\n",
      "correct predictions  : 180 \n",
      " total predictions : 942 \n",
      " Accuracy : 19.108280181884766\n",
      "correct predictions  : 185 \n",
      " total predictions : 942 \n",
      " Accuracy : 19.639066696166992\n",
      "correct predictions  : 188 \n",
      " total predictions : 942 \n",
      " Accuracy : 19.957536697387695\n",
      "correct predictions  : 187 \n",
      " total predictions : 942 \n",
      " Accuracy : 19.851381301879883\n",
      "correct predictions  : 190 \n",
      " total predictions : 942 \n",
      " Accuracy : 20.169851303100586\n",
      "correct predictions  : 187 \n",
      " total predictions : 942 \n",
      " Accuracy : 19.851381301879883\n",
      "correct predictions  : 189 \n",
      " total predictions : 942 \n",
      " Accuracy : 20.06369400024414\n",
      "correct predictions  : 190 \n",
      " total predictions : 942 \n",
      " Accuracy : 20.169851303100586\n",
      "correct predictions  : 190 \n",
      " total predictions : 942 \n",
      " Accuracy : 20.169851303100586\n",
      "correct predictions  : 188 \n",
      " total predictions : 942 \n",
      " Accuracy : 19.957536697387695\n",
      "correct predictions  : 198 \n",
      " total predictions : 942 \n",
      " Accuracy : 21.019107818603516\n",
      "correct predictions  : 201 \n",
      " total predictions : 942 \n",
      " Accuracy : 21.33757972717285\n",
      "correct predictions  : 200 \n",
      " total predictions : 942 \n",
      " Accuracy : 21.231422424316406\n",
      "correct predictions  : 199 \n",
      " total predictions : 942 \n",
      " Accuracy : 21.12526512145996\n",
      "correct predictions  : 199 \n",
      " total predictions : 942 \n",
      " Accuracy : 21.12526512145996\n",
      "correct predictions  : 208 \n",
      " total predictions : 942 \n",
      " Accuracy : 22.080678939819336\n",
      "correct predictions  : 201 \n",
      " total predictions : 942 \n",
      " Accuracy : 21.33757972717285\n",
      "correct predictions  : 207 \n",
      " total predictions : 942 \n",
      " Accuracy : 21.97452163696289\n",
      "correct predictions  : 208 \n",
      " total predictions : 942 \n",
      " Accuracy : 22.080678939819336\n",
      "correct predictions  : 208 \n",
      " total predictions : 942 \n",
      " Accuracy : 22.080678939819336\n",
      "correct predictions  : 207 \n",
      " total predictions : 942 \n",
      " Accuracy : 21.97452163696289\n",
      "correct predictions  : 200 \n",
      " total predictions : 942 \n",
      " Accuracy : 21.231422424316406\n",
      "correct predictions  : 212 \n",
      " total predictions : 942 \n",
      " Accuracy : 22.505306243896484\n",
      "correct predictions  : 212 \n",
      " total predictions : 942 \n",
      " Accuracy : 22.505306243896484\n",
      "correct predictions  : 224 \n",
      " total predictions : 942 \n",
      " Accuracy : 23.779191970825195\n",
      "Finished Training\n"
     ]
    }
   ],
   "source": [
    "''' TRAINING THE MODEL '''\n",
    "correct_preds = 0\n",
    "total_preds = 0\n",
    "for epoch in range(50): \n",
    "    running_loss = 0.0\n",
    "    for i, data in enumerate(trainloader, 0):\n",
    "        input , label = data\n",
    "        optimizer.zero_grad()\n",
    "        output = Net(input)\n",
    "        loss = criterion(output, label)\n",
    "        loss.backward()\n",
    "        optimizer.step()\n",
    "        total_preds += input.shape[0]\n",
    "        correct_preds += torch.sum(torch.argmax(output,1) == label)\n",
    "\n",
    "        running_loss += loss.item()\n",
    "        if i % 200 == 199:\n",
    "            print('[%d, %5d] loss: %.3f' %\n",
    "                  (epoch + 1, i + 1, running_loss / 200))\n",
    "            loss_history.append(running_loss/200)\n",
    "            running_loss = 0.0\n",
    "\n",
    "    report =\"correct predictions  : {} \\n total predictions : {} \\n Accuracy : {}\".format(correct_preds,total_preds, correct_preds/total_preds *100)\n",
    "    print(report)     \n",
    "    correct_preds = 0\n",
    "    total_preds = 0       \n",
    "\n",
    "print('Finished Training')"
   ]
  },
  {
   "cell_type": "code",
   "execution_count": null,
   "metadata": {
    "id": "InzgOHy4SbUx"
   },
   "outputs": [],
   "source": [
    "plt.figure()\n",
    "plt.plot(loss_history)\n",
    "# plt.savefig('/content/drive/MyDrive/schubert/loss_history1.png')\n",
    "# plt.savefig('/content/drive/MyDrive/schubert/sine_wavenet1.png')"
   ]
  },
  {
   "cell_type": "code",
   "execution_count": null,
   "metadata": {
    "id": "H2H4LCj7HJB2"
   },
   "outputs": [],
   "source": [
    "# path='/content/drive/MyDrive/schubert/sine_model.pth'\n",
    "# path='/content/drive/MyDrive/schubert/lstmmodel1.pth'\n",
    "path='/content/drive/MyDrive/schubert/sine_wavenet1.pth'\n",
    "torch.save(Net.state_dict(), path)"
   ]
  },
  {
   "cell_type": "code",
   "execution_count": null,
   "metadata": {
    "id": "EE3NneU78wsw"
   },
   "outputs": [],
   "source": [
    "import random\n",
    "ind = np.random.randint(0,len(unique_x)-1 )\n",
    "\n",
    "random_sine_part = x_val[ind]\n",
    "print(y_val[ind])\n",
    "print(random_sine_part)\n",
    "\n",
    "predictions = Net.predict(random_sine_part,steps=32)\n",
    "predictions = np.hstack( predictions )\n",
    "print(predictions)\n",
    "\n",
    "import matplotlib.pyplot as plt\n",
    "x_int_to_note = dict((number, note_) for number, note_ in enumerate(unique_x)) \n",
    "intial = [x_int_to_note[i] for i in random_sine_part]\n",
    "pred = [x_int_to_note[i] for i in predictions]\n",
    "plt.figure();\n",
    "plt.plot(range(len(intial)),intial)\n",
    "offset = len(random_sine_part)\n",
    "plt.plot(range(offset,len(pred)+offset),pred)\n"
   ]
  },
  {
   "cell_type": "code",
   "execution_count": null,
   "metadata": {
    "id": "nExWQHfDaiNp"
   },
   "outputs": [],
   "source": [
    "# path='/content/drive/MyDrive/schubert/sine_model.pth'\n",
    "# path='/content/drive/MyDrive/schubert/lstmmodel1.pth'\n",
    "path='/content/drive/MyDrive/schubert/sine_wavenet1.pth'\n",
    "# Net = Sequence(len(unique_x),32);\n",
    "Net = Wavenet(len(unique_x),blocks=4,layers = 2)\n",
    "Net.load_state_dict(torch.load(path))\n",
    "\n",
    "correct_preds = 0\n",
    "total_preds = 0\n",
    "for i, data in enumerate(validationloader, 0):\n",
    "  input , label = data\n",
    "  total_preds += 1\n",
    "  break\n",
    "  output = Net.predict(input,steps=1)\n",
    "  if(output[0] == label.numpy()):\n",
    "    correct_preds+=1 \n",
    "\n",
    "report =\"correct predictions  : {} \\n total predictions : {} \\n Accuracy : {}\".format(correct_preds,total_preds, correct_preds/total_preds *100)\n",
    "print(report)\n"
   ]
  }
 ],
 "metadata": {
  "colab": {
   "collapsed_sections": [],
   "name": "Music_Gen_AI.ipynb",
   "provenance": []
  },
  "interpreter": {
   "hash": "31f2aee4e71d21fbe5cf8b01ff0e069b9275f58929596ceb00d14d90e3e16cd6"
  },
  "kernelspec": {
   "display_name": "Python 3",
   "language": "python",
   "name": "python3"
  },
  "language_info": {
   "codemirror_mode": {
    "name": "ipython",
    "version": 3
   },
   "file_extension": ".py",
   "mimetype": "text/x-python",
   "name": "python",
   "nbconvert_exporter": "python",
   "pygments_lexer": "ipython3",
   "version": "3.8.5"
  }
 },
 "nbformat": 4,
 "nbformat_minor": 2
}
