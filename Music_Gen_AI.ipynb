{
 "cells": [
  {
   "cell_type": "code",
   "execution_count": 212,
   "metadata": {
    "id": "T-B-9mT_dkDw"
   },
   "outputs": [
    {
     "name": "stdout",
     "output_type": "stream",
     "text": [
      "cuda:0\n"
     ]
    }
   ],
   "source": [
    "from music21 import *\n",
    "import os \n",
    "import numpy as np\n",
    "import matplotlib.pyplot as plt\n",
    "import matplotlib.pyplot as plt\n",
    "import torch\n",
    "from torch import tensor\n",
    "import torch.nn as nn\n",
    "import torch.optim as optim\n",
    "import tensorflow as tf\n",
    "import torch.nn.functional as F\n",
    "import math\n",
    "device = torch.device(\"cuda:0\" if torch.cuda.is_available() else \"cpu\")\n",
    "print(device)"
   ]
  },
  {
   "cell_type": "code",
   "execution_count": 213,
   "metadata": {},
   "outputs": [],
   "source": [
    "import pandas as pd\n",
    "from ast import literal_eval\n",
    "\n",
    "notes_df = pd.read_csv ('Dataset/notes.csv')\n",
    "train_df = pd.read_csv ('Dataset/trainset.csv')\n",
    "validation_df = pd.read_csv ('Dataset/validationset.csv')\n",
    "\n",
    "data_train = train_df[['x_tr','future']].to_numpy()\n",
    "data_validation = validation_df[['x_val','future']].to_numpy()\n",
    "\n",
    "x_tr_string = data_train[:,0]\n",
    "y_tr_string = data_train[:,1]\n",
    "x_tr = []\n",
    "y_tr = []\n",
    "for i in x_tr_string:\n",
    "\n",
    "    b = \"[]\\n\"\n",
    "    for char in b:\n",
    "        i = i.replace(char, \"\")\n",
    "    input_x_tr = [int(j) for j in i.split()]\n",
    "    x_tr.append(input_x_tr)\n",
    "\n",
    "for i in y_tr_string:\n",
    "\n",
    "    b = \"[]\\n\"\n",
    "    for char in b:\n",
    "        i = i.replace(char, \"\")\n",
    "    input_y_tr = [int(j) for j in i.split()]\n",
    "    y_tr.append(input_y_tr)\n",
    "x_tr = np.array(x_tr)\n",
    "y_tr = np.array(y_tr)\n",
    "    \n",
    "# print(x_tr.shape,y_tr.shape)\n",
    "\n",
    "x_val_string = data_validation[:,0]\n",
    "y_val_string = data_validation[:,1]\n",
    "x_val = []\n",
    "y_val = []\n",
    "for i in x_val_string:\n",
    "\n",
    "    b = \"[]\\n\"\n",
    "    for char in b:\n",
    "        i = i.replace(char, \"\")\n",
    "    input_x_val = [int(j) for j in i.split()]\n",
    "    x_val.append(input_x_val)\n",
    "\n",
    "for i in y_val_string:\n",
    "\n",
    "    b = \"[]\\n\"\n",
    "    for char in b:\n",
    "        i = i.replace(char, \"\")\n",
    "    input_y_val = [int(j) for j in i.split()]\n",
    "    y_val.append(input_y_val)\n",
    "x_val = np.array(x_val)\n",
    "y_val = np.array(y_val)\n",
    "\n",
    "# print(x_val.shape,y_val.shape)\n",
    "\n",
    "notes_ = notes_df.to_numpy()[:,1]\n",
    "unique_notes_reverse = dict(enumerate(notes_.flatten(), 1))\n",
    "unique_notes = {value : key for (key, value) in unique_notes_reverse.items()}\n"
   ]
  },
  {
   "cell_type": "code",
   "execution_count": 214,
   "metadata": {
    "id": "YIqpdgrYzPe-"
   },
   "outputs": [],
   "source": [
    "from MusicDataset import *\n",
    "batch_size = 8\n",
    "train_set = MusicDataset(x_tr,y_tr)\n",
    "trainloader = torch.utils.data.DataLoader(train_set, batch_size=batch_size,\n",
    "                                         shuffle=False, num_workers=2)"
   ]
  },
  {
   "cell_type": "code",
   "execution_count": 215,
   "metadata": {
    "id": "rn3ZuUPPT38F"
   },
   "outputs": [],
   "source": [
    "val_set = MusicDataset(x_val,y_val)\n",
    "validationloader = torch.utils.data.DataLoader(val_set, batch_size=batch_size,\n",
    "                                         shuffle=False, num_workers=2)"
   ]
  },
  {
   "cell_type": "markdown",
   "metadata": {
    "id": "0bxVZde_utFh"
   },
   "source": [
    "**DataLoader**"
   ]
  },
  {
   "cell_type": "markdown",
   "metadata": {
    "id": "NnaW5q-HtI4E"
   },
   "source": [
    "**For Wavenet Model (Ignore for now)**"
   ]
  },
  {
   "cell_type": "code",
   "execution_count": 216,
   "metadata": {
    "id": "36aRUJG6Fx_p"
   },
   "outputs": [
    {
     "data": {
      "text/plain": [
       "Sequence(\n",
       "  (embedding): Embedding(173, 100)\n",
       "  (lstm): LSTM(100, 256, num_layers=3, batch_first=True)\n",
       "  (linear1): Linear(in_features=256, out_features=128, bias=True)\n",
       "  (relu): ReLU()\n",
       "  (linear2): Linear(in_features=128, out_features=128, bias=True)\n",
       "  (softmax): Softmax(dim=None)\n",
       "  (linear3): Linear(in_features=128, out_features=173, bias=True)\n",
       "  (dropout): Dropout(p=0.2, inplace=False)\n",
       ")"
      ]
     },
     "execution_count": 216,
     "metadata": {},
     "output_type": "execute_result"
    }
   ],
   "source": [
    "from Models import Wavenet,LSTM\n",
    "# Net = Wavenet.Wavenet(len(unique_notes),blocks=4,layers = 2)\n",
    "Net = LSTM.Sequence(len(unique_notes),32)\n",
    "Net.to(device)"
   ]
  },
  {
   "cell_type": "markdown",
   "metadata": {
    "id": "RARksamCtA7X"
   },
   "source": [
    "**Checking the model**"
   ]
  },
  {
   "cell_type": "code",
   "execution_count": 217,
   "metadata": {
    "id": "X01XYRS83ByK"
   },
   "outputs": [],
   "source": [
    "import torch.optim as optim\n",
    "criterion = nn.CrossEntropyLoss()\n",
    "optimizer = torch.optim.Adam(Net.parameters(), lr=0.001, betas=(0.9, 0.999), eps=1e-08, weight_decay=0, amsgrad=False)"
   ]
  },
  {
   "cell_type": "markdown",
   "metadata": {
    "id": "0-cyi3j7tSG3"
   },
   "source": [
    "**Use the line below when you want to change learning parameters in between**"
   ]
  },
  {
   "cell_type": "code",
   "execution_count": null,
   "metadata": {
    "id": "N5Ft64xRCpNF"
   },
   "outputs": [],
   "source": [
    "optimizer = torch.optim.Adam(Net.parameters(), lr=0.001, betas=(0.9, 0.999), eps=1e-08, weight_decay=0, amsgrad=False)"
   ]
  },
  {
   "cell_type": "code",
   "execution_count": null,
   "metadata": {},
   "outputs": [],
   "source": [
    "import time , sys\n",
    "baseDir = '/home/god-particle/Desktop/Music_Gen_AI'\n",
    "expDir = os.path.join(baseDir, 'trained_model_cache', time.strftime(\"%d_%m_%Y_%H_%M\"))\n",
    "lossDir = os.path.join(expDir, 'loss')\n",
    "os.makedirs(expDir, exist_ok=True)\n",
    "os.makedirs(lossDir, exist_ok=True)\n",
    "print(baseDir,expDir)"
   ]
  },
  {
   "cell_type": "code",
   "execution_count": 223,
   "metadata": {},
   "outputs": [],
   "source": [
    "loss_history = []\n",
    "best_val_acc = 0\n",
    "training_mode_list = [\"Next_Predict_Mode\",\"Future_Predict_Mode\"]\n",
    "# training_mode = \"Next_Predict_Mode\"\n",
    "training_mode = \"Future_Predict_Mode\"\n",
    "future_preds = 3"
   ]
  },
  {
   "cell_type": "code",
   "execution_count": 224,
   "metadata": {
    "id": "45TGOH7G1mvF"
   },
   "outputs": [
    {
     "name": "stdout",
     "output_type": "stream",
     "text": [
      "[1,   100] loss: 4.380\n",
      "[1,   200] loss: 4.335\n",
      "[1,   300] loss: 4.330\n",
      "[1,   400] loss: 4.372\n",
      "[1,   500] loss: 4.306\n",
      "[1,   600] loss: 4.313\n",
      "[1,   700] loss: 4.326\n",
      "[1,   800] loss: 4.317\n",
      "[1,   900] loss: 4.310\n",
      "[1,  1000] loss: 4.314\n",
      "[1,  1100] loss: 4.338\n",
      "[1,  1200] loss: 4.314\n",
      "[1,  1300] loss: 4.310\n",
      "[1,  1400] loss: 4.306\n",
      "[1,  1500] loss: 4.288\n"
     ]
    },
    {
     "ename": "KeyboardInterrupt",
     "evalue": "",
     "output_type": "error",
     "traceback": [
      "\u001b[0;31m---------------------------------------------------------------------------\u001b[0m",
      "\u001b[0;31mKeyboardInterrupt\u001b[0m                         Traceback (most recent call last)",
      "\u001b[0;32m<ipython-input-224-bef17b74a68a>\u001b[0m in \u001b[0;36m<module>\u001b[0;34m\u001b[0m\n\u001b[1;32m     31\u001b[0m             \u001b[0moptimizer\u001b[0m\u001b[0;34m.\u001b[0m\u001b[0mstep\u001b[0m\u001b[0;34m(\u001b[0m\u001b[0;34m)\u001b[0m\u001b[0;34m\u001b[0m\u001b[0;34m\u001b[0m\u001b[0m\n\u001b[1;32m     32\u001b[0m \u001b[0;34m\u001b[0m\u001b[0m\n\u001b[0;32m---> 33\u001b[0;31m             \u001b[0mrunning_loss\u001b[0m \u001b[0;34m+=\u001b[0m \u001b[0mloss\u001b[0m\u001b[0;34m.\u001b[0m\u001b[0mitem\u001b[0m\u001b[0;34m(\u001b[0m\u001b[0;34m)\u001b[0m\u001b[0;34m\u001b[0m\u001b[0;34m\u001b[0m\u001b[0m\n\u001b[0m\u001b[1;32m     34\u001b[0m \u001b[0;34m\u001b[0m\u001b[0m\n\u001b[1;32m     35\u001b[0m         \u001b[0;32mif\u001b[0m \u001b[0;34m(\u001b[0m\u001b[0mi\u001b[0m \u001b[0;34m%\u001b[0m \u001b[0;36m100\u001b[0m \u001b[0;34m==\u001b[0m \u001b[0;36m99\u001b[0m  \u001b[0;34m)\u001b[0m\u001b[0;34m:\u001b[0m\u001b[0;34m\u001b[0m\u001b[0;34m\u001b[0m\u001b[0m\n",
      "\u001b[0;31mKeyboardInterrupt\u001b[0m: "
     ]
    }
   ],
   "source": [
    "''' TRAINING THE MODEL '''\n",
    "correct_preds = 0\n",
    "total_preds = 0\n",
    "for epoch in range(20): \n",
    "    running_loss = 0.0\n",
    "    for i, data in enumerate(trainloader, 0):\n",
    "        input , label = data\n",
    "        optimizer.zero_grad()\n",
    "        if training_mode == training_mode_list[0]:\n",
    "            output = Net(input.to(device),input.shape[0])\n",
    "            loss = criterion(output.to(device), label[:,0].to(device))\n",
    "            loss.backward()\n",
    "            optimizer.step()\n",
    "            total_preds += input.shape[0]\n",
    "            correct_preds += torch.sum(torch.argmax(output,1) == label[:,0].to(device))\n",
    "\n",
    "            running_loss += loss.item()\n",
    "        elif training_mode == training_mode_list[1]:\n",
    "            cumm_output = torch.zeros(0,len(unique_notes)).to(device)\n",
    "            cumm_label  = np.array([],dtype=int)\n",
    "            for k in range(future_preds):\n",
    "                output = Net(input.to(device),input.shape[0])\n",
    "                cumm_output = torch.cat((cumm_output,output))\n",
    "                cumm_label = np.concatenate((cumm_label,label[:,k]))\n",
    "                next_preds = np.argmax(output.cpu().detach().numpy(),axis=1)\n",
    "                input = input.cpu().detach().numpy()\n",
    "                input = torch.from_numpy(np.array([np.append(j,next_preds[ind]) \n",
    "                                                       for ind,j in enumerate(input)])[:,1:])  \n",
    "            loss = criterion(cumm_output, torch.from_numpy(cumm_label).to(device))\n",
    "            loss.backward()\n",
    "            optimizer.step()\n",
    "\n",
    "            running_loss += loss.item()\n",
    "        \n",
    "        if (i % 100 == 99  ):\n",
    "            print('[%d, %5d] loss: %.3f' %\n",
    "                  (epoch + 1, i + 1, running_loss / 100))\n",
    "            loss_history.append(running_loss/100)\n",
    "            running_loss = 0.0\n",
    "   \n",
    "#     train_acc =  float(correct_preds)/float(total_preds) *100 \n",
    "#     trainreport =\"Training Accuracy : \\n correct predictions  : {} \\n total predictions : {} \\n Accuracy : {} \\n ------------------------\\n\".format(correct_preds,total_preds,train_acc)\n",
    "#     print(trainreport)     \n",
    "#     correct_preds = 0\n",
    "#     total_preds = 0\n",
    "#     val_loss = 0\n",
    "#     for i, data in enumerate(validationloader, 0):\n",
    "#         input , label = data\n",
    "#         output = Net(input.to(device),input.shape[0])\n",
    "#         loss = criterion(output.to(device), label.to(device))\n",
    "#         val_loss += loss.item()\n",
    "#         total_preds += input.shape[0]\n",
    "#         correct_preds += torch.sum(torch.argmax(output,1) == label.to(device))\n",
    "#     val_acc = float(correct_preds)/float(total_preds) *100\n",
    "#     val_loss /= total_preds\n",
    "#     valreport =\"Validation Accuracy : \\n correct predictions  : {} \\n total predictions : {} \\n Val-Loss : {} \\n ------------------------\\n\".format(correct_preds,total_preds,val_acc )\n",
    "#     print(valreport)\n",
    "    \n",
    "#     if(val_acc > best_val_acc):\n",
    "#         print('Updating the saved model')\n",
    "#         best_val_acc = val_acc\n",
    "#         checkpoint = {\n",
    "#             \"epoch\": epoch,\n",
    "#             \"model_state_dict\": Net.state_dict(),\n",
    "#             \"optimizer_state_dict\": optimizer.state_dict(),\n",
    "#             \"train_acc\": train_acc,\n",
    "#             \"valid_acc\": val_acc\n",
    "#         }\n",
    "#         torch.save(checkpoint, os.path.join(expDir, 'checkpoint.tar'))\n",
    "#         torch.save(Net, os.path.join(expDir, 'model.pth'))\n",
    "    \n",
    "#     correct_preds = 0\n",
    "#     total_preds = 0\n",
    "\n",
    "\n",
    "print('Finished Training')"
   ]
  },
  {
   "cell_type": "code",
   "execution_count": null,
   "metadata": {
    "id": "InzgOHy4SbUx"
   },
   "outputs": [],
   "source": [
    "plt.figure()\n",
    "plt.plot(loss_history)\n",
    "plt.savefig(lossDir + '/loss_history.png')"
   ]
  },
  {
   "cell_type": "code",
   "execution_count": null,
   "metadata": {
    "id": "H2H4LCj7HJB2"
   },
   "outputs": [],
   "source": [
    "# path='/content/drive/MyDrive/schubert/sine_model.pth'\n",
    "# path='/content/drive/MyDrive/schubert/lstmmodel1.pth'\n",
    "path='/content/drive/MyDrive/schubert/sine_wavenet1.pth'\n",
    "torch.save(Net.state_dict(), path)"
   ]
  },
  {
   "cell_type": "code",
   "execution_count": null,
   "metadata": {
    "id": "nExWQHfDaiNp"
   },
   "outputs": [],
   "source": [
    "# path='/content/drive/MyDrive/schubert/sine_model.pth'\n",
    "# path='/content/drive/MyDrive/schubert/lstmmodel1.pth'\n",
    "checkpoint_path='/home/god-particle/Desktop/Music_Gen_AI/trained_model_cache/29_08_2021_23_57/checkpoint.tar'\n",
    "Net = LSTM.Sequence(len(unique_notes),32);\n",
    "checkpoint = torch.load(checkpoint_path)\n",
    "Net.load_state_dict(checkpoint[\"model_state_dict\"])\n",
    "print(checkpoint[\"epoch\"])\n",
    "# Net = Wavenet(len(unique_x),blocks=4,layers = 2)\n",
    "# Net.load_state_dict(torch.load(path))\n",
    "\n",
    "correct_preds = 0\n",
    "total_preds = 0\n",
    "with torch.no_grad():\n",
    "  for i, data in enumerate(validationloader, 0):\n",
    "    input , label = data\n",
    "    output = Net(input,input.shape[0])\n",
    "    total_preds += input.shape[0]\n",
    "    correct_preds += torch.sum(torch.argmax(output,1) == label)\n",
    "    \n",
    "\n",
    "report =\"correct predictions  : {} \\n total predictions : {} \\n Accuracy : {}\".format(correct_preds,total_preds, correct_preds/total_preds *100)\n",
    "print(report)\n"
   ]
  },
  {
   "cell_type": "markdown",
   "metadata": {
    "id": "xJmdQ95isFGQ"
   },
   "source": [
    "**Testing the Model by training sinosoids**\n",
    "\n",
    "\n",
    "\n",
    "*   Uncomment the code chunk below to test o sinosoids \n",
    "*   dont run above code if training for sinosoids. Variable names are mostly same\n",
    "\n"
   ]
  },
  {
   "cell_type": "code",
   "execution_count": null,
   "metadata": {
    "id": "wxaFU5Q8siEX"
   },
   "outputs": [],
   "source": [
    "# time = np.linspace(1,10,10000)\n",
    "# # print(time)\n",
    "# y = np.sin(20*time)\n",
    "# # plt.figure();\n",
    "# # plt.plot(y)\n",
    "# func = np.round(y,decimals=2)\n",
    "# # print(y[:100])\n",
    "# no_of_timesteps = 32\n",
    "# x = []\n",
    "# y = []\n",
    "\n",
    "\n",
    "# for i in range(0, len(func) - no_of_timesteps-1, 1):\n",
    "    \n",
    "#     #preparing input and output sequences\n",
    "#     input_ = func[i:i + no_of_timesteps]\n",
    "#     output = func[i+no_of_timesteps+1]\n",
    "    \n",
    "#     x.append(input_)\n",
    "#     y.append(output)\n",
    "        \n",
    "# x=np.array(x)\n",
    "# y=np.array(y)\n",
    "\n",
    "# unique_x = list(set(x.ravel()))\n",
    "# x_note_to_int = dict((note_, number) for number, note_ in enumerate(unique_x))\n",
    "# x_seq=[]\n",
    "# for i in x:\n",
    "#     temp=[]\n",
    "#     for j in i:\n",
    "#         #assigning unique integer to every note\n",
    "#         temp.append(x_note_to_int[j])\n",
    "#     x_seq.append(temp)\n",
    "    \n",
    "# x_seq = np.array(x_seq)\n",
    "\n",
    "# unique_y = list(set(y))\n",
    "# y_note_to_int = dict((note_, number) for number, note_ in enumerate(unique_y)) \n",
    "# y_seq=np.array([x_note_to_int[i] for i in y])\n"
   ]
  }
 ],
 "metadata": {
  "colab": {
   "collapsed_sections": [],
   "name": "Music_Gen_AI.ipynb",
   "provenance": []
  },
  "interpreter": {
   "hash": "31f2aee4e71d21fbe5cf8b01ff0e069b9275f58929596ceb00d14d90e3e16cd6"
  },
  "kernelspec": {
   "display_name": "Python 3",
   "language": "python",
   "name": "python3"
  },
  "language_info": {
   "codemirror_mode": {
    "name": "ipython",
    "version": 3
   },
   "file_extension": ".py",
   "mimetype": "text/x-python",
   "name": "python",
   "nbconvert_exporter": "python",
   "pygments_lexer": "ipython3",
   "version": "3.8.5"
  }
 },
 "nbformat": 4,
 "nbformat_minor": 2
}
