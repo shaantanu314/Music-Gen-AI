{
 "cells": [
  {
   "cell_type": "code",
   "execution_count": 1,
   "metadata": {
    "id": "T-B-9mT_dkDw"
   },
   "outputs": [
    {
     "name": "stdout",
     "output_type": "stream",
     "text": [
      "cuda:0\n"
     ]
    }
   ],
   "source": [
    "from music21 import *\n",
    "import os \n",
    "import numpy as np\n",
    "import matplotlib.pyplot as plt\n",
    "from Utilities.midi_helper import *\n",
    "import matplotlib.pyplot as plt\n",
    "import Generate_dataset\n",
    "import torch\n",
    "from torch import tensor\n",
    "import torch.nn as nn\n",
    "import torch.optim as optim\n",
    "import tensorflow as tf\n",
    "import torch.nn.functional as F\n",
    "import math\n",
    "device = torch.device(\"cuda:0\" if torch.cuda.is_available() else \"cpu\")\n",
    "print(device)"
   ]
  },
  {
   "cell_type": "code",
   "execution_count": 2,
   "metadata": {
    "colab": {
     "base_uri": "https://localhost:8080/"
    },
    "id": "36e0e7oRjjdG",
    "outputId": "7a97d4e3-d75e-4c4e-8725-3fb6380cefa4",
    "scrolled": true
   },
   "outputs": [
    {
     "name": "stdout",
     "output_type": "stream",
     "text": [
      "Loading Music File: ./schubert/schub_d760_1.mid\n",
      "Loading Music File: ./schubert/schumm-1.mid\n",
      "Loading Music File: ./schubert/schu_143_3.mid\n",
      "Loading Music File: ./schubert/schuim-4.mid\n",
      "Loading Music File: ./schubert/schubert_D850_1.mid\n",
      "Loading Music File: ./schubert/schub_d760_3.mid\n",
      "Loading Music File: ./schubert/schumm-3.mid\n",
      "Loading Music File: ./schubert/schumm-5.mid\n",
      "Loading Music File: ./schubert/schubert_D850_2.mid\n",
      "Loading Music File: ./schubert/schuim-3.mid\n",
      "Loading Music File: ./schubert/schub_d960_3.mid\n",
      "Loading Music File: ./schubert/schub_d960_1.mid\n",
      "Loading Music File: ./schubert/schubert_D935_3.mid\n",
      "Loading Music File: ./schubert/schubert_D850_3.mid\n",
      "Loading Music File: ./schubert/schub_d960_2.mid\n",
      "Loading Music File: ./schubert/schub_d760_4.mid\n",
      "Loading Music File: ./schubert/schumm-6.mid\n",
      "Loading Music File: ./schubert/schumm-2.mid\n",
      "Loading Music File: ./schubert/schub_d760_2.mid\n",
      "Loading Music File: ./schubert/schubert_D935_4.mid\n",
      "Loading Music File: ./schubert/schu_143_1.mid\n",
      "Loading Music File: ./schubert/schubert_D935_2.mid\n",
      "Loading Music File: ./schubert/schub_d960_4.mid\n",
      "Loading Music File: ./schubert/schumm-4.mid\n",
      "Loading Music File: ./schubert/schubert_D850_4.mid\n",
      "Loading Music File: ./schubert/schuim-1.mid\n",
      "Loading Music File: ./schubert/schuim-2.mid\n",
      "Loading Music File: ./schubert/schubert_D935_1.mid\n",
      "Loading Music File: ./schubert/schu_143_2.mid\n"
     ]
    },
    {
     "name": "stderr",
     "output_type": "stream",
     "text": [
      "<ipython-input-2-76e837772147>:9: VisibleDeprecationWarning: Creating an ndarray from ragged nested sequences (which is a list-or-tuple of lists-or-tuples-or ndarrays with different lengths or shapes) is deprecated. If you meant to do this, you must specify 'dtype=object' when creating the ndarray\n",
      "  notes_array = np.array([read_midi(path+i) for i in files])\n"
     ]
    }
   ],
   "source": [
    "#specify the path\n",
    "path='./schubert/'\n",
    "\n",
    "#read all the filenames\n",
    "files=[i for i in os.listdir(path) if i.endswith(\".mid\")]\n",
    "\n",
    "#reading each midi file\n",
    "# notes_array = np.array([read_midi(path+files[0])])\n",
    "notes_array = np.array([read_midi(path+i) for i in files])"
   ]
  },
  {
   "cell_type": "code",
   "execution_count": 3,
   "metadata": {},
   "outputs": [
    {
     "name": "stderr",
     "output_type": "stream",
     "text": [
      "/home/god-particle/Desktop/Music_Gen_AI/Generate_dataset.py:21: VisibleDeprecationWarning: Creating an ndarray from ragged nested sequences (which is a list-or-tuple of lists-or-tuples-or ndarrays with different lengths or shapes) is deprecated. If you meant to do this, you must specify 'dtype=object' when creating the ndarray\n",
      "  new_music = np.array(new_music)\n"
     ]
    }
   ],
   "source": [
    "x_seq , y_seq , unique_notes,note_to_int  = Generate_dataset.get_sequences(notes_array,32)"
   ]
  },
  {
   "cell_type": "markdown",
   "metadata": {
    "id": "xJmdQ95isFGQ"
   },
   "source": [
    "**Testing the Model by training sinosoids**\n",
    "\n",
    "\n",
    "\n",
    "*   Uncomment the code chunk below to test o sinosoids \n",
    "*   dont run above code if training for sinosoids. Variable names are mostly same\n",
    "\n"
   ]
  },
  {
   "cell_type": "code",
   "execution_count": 4,
   "metadata": {
    "id": "wxaFU5Q8siEX"
   },
   "outputs": [],
   "source": [
    "# time = np.linspace(1,10,10000)\n",
    "# # print(time)\n",
    "# y = np.sin(20*time)\n",
    "# # plt.figure();\n",
    "# # plt.plot(y)\n",
    "# func = np.round(y,decimals=2)\n",
    "# # print(y[:100])\n",
    "# no_of_timesteps = 32\n",
    "# x = []\n",
    "# y = []\n",
    "\n",
    "\n",
    "# for i in range(0, len(func) - no_of_timesteps-1, 1):\n",
    "    \n",
    "#     #preparing input and output sequences\n",
    "#     input_ = func[i:i + no_of_timesteps]\n",
    "#     output = func[i+no_of_timesteps+1]\n",
    "    \n",
    "#     x.append(input_)\n",
    "#     y.append(output)\n",
    "        \n",
    "# x=np.array(x)\n",
    "# y=np.array(y)\n",
    "\n",
    "# unique_x = list(set(x.ravel()))\n",
    "# x_note_to_int = dict((note_, number) for number, note_ in enumerate(unique_x))\n",
    "# x_seq=[]\n",
    "# for i in x:\n",
    "#     temp=[]\n",
    "#     for j in i:\n",
    "#         #assigning unique integer to every note\n",
    "#         temp.append(x_note_to_int[j])\n",
    "#     x_seq.append(temp)\n",
    "    \n",
    "# x_seq = np.array(x_seq)\n",
    "\n",
    "# unique_y = list(set(y))\n",
    "# y_note_to_int = dict((note_, number) for number, note_ in enumerate(unique_y)) \n",
    "# y_seq=np.array([x_note_to_int[i] for i in y])\n"
   ]
  },
  {
   "cell_type": "code",
   "execution_count": 5,
   "metadata": {},
   "outputs": [],
   "source": [
    "from MusicDataset import *"
   ]
  },
  {
   "cell_type": "code",
   "execution_count": 6,
   "metadata": {
    "id": "aO_up_-TwhM2"
   },
   "outputs": [],
   "source": [
    "from sklearn.model_selection import train_test_split\n",
    "x_tr, x_val, y_tr, y_val = train_test_split(x_seq,y_seq,test_size=0.33,random_state=0)"
   ]
  },
  {
   "cell_type": "code",
   "execution_count": 7,
   "metadata": {
    "id": "YIqpdgrYzPe-"
   },
   "outputs": [],
   "source": [
    "batch_size = 8\n",
    "train_set = MusicDataset(x_tr,y_tr)\n",
    "trainloader = torch.utils.data.DataLoader(train_set, batch_size=batch_size,\n",
    "                                         shuffle=False, num_workers=2)"
   ]
  },
  {
   "cell_type": "code",
   "execution_count": 8,
   "metadata": {
    "id": "rn3ZuUPPT38F"
   },
   "outputs": [],
   "source": [
    "val_set = MusicDataset(x_val,y_val)\n",
    "validationloader = torch.utils.data.DataLoader(val_set, batch_size=batch_size,\n",
    "                                         shuffle=False, num_workers=2)"
   ]
  },
  {
   "cell_type": "markdown",
   "metadata": {
    "id": "0bxVZde_utFh"
   },
   "source": [
    "**DataLoader**"
   ]
  },
  {
   "cell_type": "markdown",
   "metadata": {
    "id": "NnaW5q-HtI4E"
   },
   "source": [
    "**For Wavenet Model (Ignore for now)**"
   ]
  },
  {
   "cell_type": "code",
   "execution_count": 17,
   "metadata": {
    "id": "36aRUJG6Fx_p"
   },
   "outputs": [
    {
     "data": {
      "text/plain": [
       "Sequence(\n",
       "  (embedding): Embedding(173, 100)\n",
       "  (lstm): LSTM(100, 256, num_layers=5, batch_first=True)\n",
       "  (linear1): Linear(in_features=256, out_features=256, bias=True)\n",
       "  (relu): ReLU()\n",
       "  (linear2): Linear(in_features=256, out_features=173, bias=True)\n",
       "  (softmax): Softmax(dim=None)\n",
       ")"
      ]
     },
     "execution_count": 17,
     "metadata": {},
     "output_type": "execute_result"
    }
   ],
   "source": [
    "from Models import Wavenet,LSTM\n",
    "# Net = Wavenet.Wavenet(len(unique_notes),blocks=4,layers = 2)\n",
    "Net = LSTM.Sequence(len(unique_notes),32)\n",
    "Net.to(device)"
   ]
  },
  {
   "cell_type": "markdown",
   "metadata": {
    "id": "RARksamCtA7X"
   },
   "source": [
    "**Checking the model**"
   ]
  },
  {
   "cell_type": "code",
   "execution_count": 20,
   "metadata": {
    "id": "X01XYRS83ByK"
   },
   "outputs": [],
   "source": [
    "import torch.optim as optim\n",
    "criterion = nn.CrossEntropyLoss()\n",
    "optimizer = torch.optim.Adam(Net.parameters(), lr=0.0001, betas=(0.9, 0.999), eps=1e-08, weight_decay=0, amsgrad=False)"
   ]
  },
  {
   "cell_type": "markdown",
   "metadata": {
    "id": "0-cyi3j7tSG3"
   },
   "source": [
    "**Use the line below when you want to change learning parameters in between**"
   ]
  },
  {
   "cell_type": "code",
   "execution_count": 11,
   "metadata": {
    "id": "N5Ft64xRCpNF"
   },
   "outputs": [],
   "source": [
    "optimizer = torch.optim.Adam(Net.parameters(), lr=0.001, betas=(0.9, 0.999), eps=1e-08, weight_decay=0, amsgrad=False)"
   ]
  },
  {
   "cell_type": "code",
   "execution_count": 12,
   "metadata": {},
   "outputs": [
    {
     "name": "stdout",
     "output_type": "stream",
     "text": [
      "/home/god-particle/Desktop/Music_Gen_AI /home/god-particle/Desktop/Music_Gen_AI/trained_model_cache/30_08_2021_21_26\n"
     ]
    }
   ],
   "source": [
    "import time , sys\n",
    "baseDir = '/home/god-particle/Desktop/Music_Gen_AI'\n",
    "expDir = os.path.join(baseDir, 'trained_model_cache', time.strftime(\"%d_%m_%Y_%H_%M\"))\n",
    "lossDir = os.path.join(expDir, 'loss')\n",
    "os.makedirs(expDir, exist_ok=True)\n",
    "os.makedirs(lossDir, exist_ok=True)\n",
    "print(baseDir,expDir)"
   ]
  },
  {
   "cell_type": "code",
   "execution_count": 21,
   "metadata": {},
   "outputs": [],
   "source": [
    "loss_history = []\n",
    "best_val_acc = 0"
   ]
  },
  {
   "cell_type": "code",
   "execution_count": null,
   "metadata": {
    "id": "45TGOH7G1mvF"
   },
   "outputs": [
    {
     "name": "stdout",
     "output_type": "stream",
     "text": [
      "[1,   300] loss: 4.963\n",
      "[1,   600] loss: 4.790\n",
      "[1,   900] loss: 4.732\n",
      "[1,  1200] loss: 4.664\n",
      "[1,  1500] loss: 4.618\n",
      "[1,  1800] loss: 4.611\n",
      "[1,  2100] loss: 4.611\n",
      "[1,  2400] loss: 4.547\n",
      "[1,  2700] loss: 4.537\n",
      "[1,  3000] loss: 4.533\n",
      "[1,  3300] loss: 4.559\n",
      "[1,  3600] loss: 4.492\n",
      "[1,  3900] loss: 4.499\n",
      "[1,  4200] loss: 4.507\n",
      "[1,  4500] loss: 4.482\n",
      "[1,  4800] loss: 4.471\n",
      "[1,  5100] loss: 4.468\n",
      "[1,  5400] loss: 4.432\n",
      "[1,  5700] loss: 4.440\n",
      "[1,  6000] loss: 4.414\n",
      "[1,  6300] loss: 4.412\n",
      "[1,  6600] loss: 4.391\n",
      "Training Accuracy : \n",
      " correct predictions  : 1601 \n",
      " total predictions : 53827 \n",
      " Accuracy : 2.974343776702881 \n",
      " ------------------------\n",
      "\n",
      "Validation Accuracy : \n",
      " correct predictions  : 1220 \n",
      " total predictions : 26513 \n",
      " Val-Loss : 4.601516246795654 \n",
      " ------------------------\n",
      "\n",
      "Updating the saved model\n",
      "[2,   300] loss: 4.364\n",
      "[2,   600] loss: 4.345\n",
      "[2,   900] loss: 4.352\n",
      "[2,  1200] loss: 4.323\n",
      "[2,  1500] loss: 4.284\n",
      "[2,  1800] loss: 4.302\n",
      "[2,  2100] loss: 4.293\n",
      "[2,  2400] loss: 4.261\n",
      "[2,  2700] loss: 4.243\n",
      "[2,  3000] loss: 4.209\n",
      "[2,  3300] loss: 4.243\n",
      "[2,  3600] loss: 4.165\n",
      "[2,  3900] loss: 4.184\n",
      "[2,  4200] loss: 4.185\n",
      "[2,  4500] loss: 4.147\n",
      "[2,  4800] loss: 4.143\n",
      "[2,  5100] loss: 4.150\n",
      "[2,  5400] loss: 4.106\n",
      "[2,  5700] loss: 4.109\n",
      "[2,  6000] loss: 4.089\n",
      "[2,  6300] loss: 4.094\n",
      "[2,  6600] loss: 4.068\n",
      "Training Accuracy : \n",
      " correct predictions  : 3475 \n",
      " total predictions : 53827 \n",
      " Accuracy : 6.455867767333984 \n",
      " ------------------------\n",
      "\n",
      "Validation Accuracy : \n",
      " correct predictions  : 2173 \n",
      " total predictions : 26513 \n",
      " Val-Loss : 8.195979118347168 \n",
      " ------------------------\n",
      "\n",
      "Updating the saved model\n",
      "[3,   300] loss: 4.059\n",
      "[3,   600] loss: 4.027\n",
      "[3,   900] loss: 4.040\n",
      "[3,  1200] loss: 4.027\n",
      "[3,  1500] loss: 3.989\n",
      "[3,  1800] loss: 4.002\n",
      "[3,  2100] loss: 3.986\n",
      "[3,  2400] loss: 3.977\n",
      "[3,  2700] loss: 3.953\n",
      "[3,  3000] loss: 3.920\n",
      "[3,  3300] loss: 3.975\n",
      "[3,  3600] loss: 3.876\n",
      "[3,  3900] loss: 3.926\n",
      "[3,  4200] loss: 3.919\n",
      "[3,  4500] loss: 3.887\n",
      "[3,  4800] loss: 3.899\n",
      "[3,  5100] loss: 3.904\n",
      "[3,  5400] loss: 3.849\n",
      "[3,  5700] loss: 3.856\n",
      "[3,  6000] loss: 3.855\n",
      "[3,  6300] loss: 3.872\n",
      "[3,  6600] loss: 3.817\n",
      "Training Accuracy : \n",
      " correct predictions  : 5144 \n",
      " total predictions : 53827 \n",
      " Accuracy : 9.55654239654541 \n",
      " ------------------------\n",
      "\n",
      "Validation Accuracy : \n",
      " correct predictions  : 2794 \n",
      " total predictions : 26513 \n",
      " Val-Loss : 10.538226127624512 \n",
      " ------------------------\n",
      "\n",
      "Updating the saved model\n",
      "[4,   300] loss: 3.816\n",
      "[4,   600] loss: 3.790\n",
      "[4,   900] loss: 3.818\n",
      "[4,  1200] loss: 3.787\n",
      "[4,  1500] loss: 3.759\n",
      "[4,  1800] loss: 3.776\n",
      "[4,  2100] loss: 3.754\n",
      "[4,  2400] loss: 3.747\n",
      "[4,  2700] loss: 3.738\n",
      "[4,  3000] loss: 3.694\n",
      "[4,  3300] loss: 3.744\n",
      "[4,  3600] loss: 3.650\n",
      "[4,  3900] loss: 3.708\n",
      "[4,  4200] loss: 3.694\n",
      "[4,  4500] loss: 3.647\n"
     ]
    }
   ],
   "source": [
    "''' TRAINING THE MODEL '''\n",
    "correct_preds = 0\n",
    "total_preds = 0\n",
    "for epoch in range(20): \n",
    "    running_loss = 0.0\n",
    "    for i, data in enumerate(trainloader, 0):\n",
    "        input , label = data\n",
    "        optimizer.zero_grad()\n",
    "        output = Net(input.to(device),input.shape[0])\n",
    "#         print('here')\n",
    "        loss = criterion(output.to(device), label.to(device))\n",
    "        loss.backward()\n",
    "        optimizer.step()\n",
    "        total_preds += input.shape[0]\n",
    "        correct_preds += torch.sum(torch.argmax(output,1) == label.to(device))\n",
    "\n",
    "        running_loss += loss.item()\n",
    "        if (i % 300 == 299  ):\n",
    "            print('[%d, %5d] loss: %.3f' %\n",
    "                  (epoch + 1, i + 1, running_loss / 300))\n",
    "            loss_history.append(running_loss/300)\n",
    "            running_loss = 0.0\n",
    "    train_acc =  correct_preds/total_preds *100 \n",
    "    trainreport =\"Training Accuracy : \\n correct predictions  : {} \\n total predictions : {} \\n Accuracy : {} \\n ------------------------\\n\".format(correct_preds,total_preds,train_acc)\n",
    "    print(trainreport)     \n",
    "    correct_preds = 0\n",
    "    total_preds = 0\n",
    "    val_loss = 0\n",
    "    for i, data in enumerate(validationloader, 0):\n",
    "        input , label = data\n",
    "        output = Net(input.to(device),input.shape[0])\n",
    "        loss = criterion(output.to(device), label.to(device))\n",
    "        val_loss += loss.item()\n",
    "        total_preds += input.shape[0]\n",
    "        correct_preds += torch.sum(torch.argmax(output,1) == label.to(device))\n",
    "    val_acc = correct_preds/total_preds *100\n",
    "    val_loss /= total_preds\n",
    "    valreport =\"Validation Accuracy : \\n correct predictions  : {} \\n total predictions : {} \\n Val-Loss : {} \\n ------------------------\\n\".format(correct_preds,total_preds,val_acc )\n",
    "    print(valreport)\n",
    "    if(val_acc > best_val_acc):\n",
    "        print('Updating the saved model')\n",
    "        best_val_acc = val_acc\n",
    "        checkpoint = {\n",
    "            \"epoch\": epoch,\n",
    "            \"model_state_dict\": Net.state_dict(),\n",
    "            \"optimizer_state_dict\": optimizer.state_dict(),\n",
    "            \"train_acc\": train_acc,\n",
    "            \"valid_acc\": val_acc\n",
    "        }\n",
    "        torch.save(checkpoint, os.path.join(expDir, 'checkpoint.tar'))\n",
    "        torch.save(Net, os.path.join(expDir, 'model.pth'))\n",
    "    \n",
    "    correct_preds = 0\n",
    "    total_preds = 0\n",
    "\n",
    "\n",
    "print('Finished Training')"
   ]
  },
  {
   "cell_type": "code",
   "execution_count": null,
   "metadata": {
    "id": "InzgOHy4SbUx"
   },
   "outputs": [],
   "source": [
    "plt.figure()\n",
    "plt.plot(loss_history)\n",
    "plt.savefig(lossDir + '/loss_history.png')"
   ]
  },
  {
   "cell_type": "code",
   "execution_count": null,
   "metadata": {
    "id": "H2H4LCj7HJB2"
   },
   "outputs": [],
   "source": [
    "# path='/content/drive/MyDrive/schubert/sine_model.pth'\n",
    "# path='/content/drive/MyDrive/schubert/lstmmodel1.pth'\n",
    "path='/content/drive/MyDrive/schubert/sine_wavenet1.pth'\n",
    "torch.save(Net.state_dict(), path)"
   ]
  },
  {
   "cell_type": "code",
   "execution_count": null,
   "metadata": {
    "id": "nExWQHfDaiNp"
   },
   "outputs": [],
   "source": [
    "# path='/content/drive/MyDrive/schubert/sine_model.pth'\n",
    "# path='/content/drive/MyDrive/schubert/lstmmodel1.pth'\n",
    "checkpoint_path='/home/god-particle/Desktop/Music_Gen_AI/trained_model_cache/29_08_2021_23_57/checkpoint.tar'\n",
    "Net = LSTM.Sequence(len(unique_notes),32);\n",
    "checkpoint = torch.load(checkpoint_path)\n",
    "Net.load_state_dict(checkpoint[\"model_state_dict\"])\n",
    "print(checkpoint[\"epoch\"])\n",
    "# Net = Wavenet(len(unique_x),blocks=4,layers = 2)\n",
    "# Net.load_state_dict(torch.load(path))\n",
    "\n",
    "correct_preds = 0\n",
    "total_preds = 0\n",
    "with torch.no_grad():\n",
    "  for i, data in enumerate(validationloader, 0):\n",
    "    input , label = data\n",
    "    output = Net(input,input.shape[0])\n",
    "    total_preds += input.shape[0]\n",
    "    correct_preds += torch.sum(torch.argmax(output,1) == label)\n",
    "    \n",
    "\n",
    "report =\"correct predictions  : {} \\n total predictions : {} \\n Accuracy : {}\".format(correct_preds,total_preds, correct_preds/total_preds *100)\n",
    "print(report)\n"
   ]
  }
 ],
 "metadata": {
  "colab": {
   "collapsed_sections": [],
   "name": "Music_Gen_AI.ipynb",
   "provenance": []
  },
  "interpreter": {
   "hash": "31f2aee4e71d21fbe5cf8b01ff0e069b9275f58929596ceb00d14d90e3e16cd6"
  },
  "kernelspec": {
   "display_name": "Python 3",
   "language": "python",
   "name": "python3"
  },
  "language_info": {
   "codemirror_mode": {
    "name": "ipython",
    "version": 3
   },
   "file_extension": ".py",
   "mimetype": "text/x-python",
   "name": "python",
   "nbconvert_exporter": "python",
   "pygments_lexer": "ipython3",
   "version": "3.8.5"
  }
 },
 "nbformat": 4,
 "nbformat_minor": 2
}
