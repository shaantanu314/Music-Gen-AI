{
 "cells": [
  {
   "cell_type": "code",
   "execution_count": 13,
   "metadata": {
    "id": "T-B-9mT_dkDw"
   },
   "outputs": [],
   "source": [
    "from music21 import *\n",
    "import os \n",
    "import numpy as np\n",
    "import matplotlib.pyplot as plt\n",
    "from Utilities.midi_helper import *\n",
    "import matplotlib.pyplot as plt\n",
    "import Generate_dataset"
   ]
  },
  {
   "cell_type": "code",
   "execution_count": 14,
   "metadata": {
    "colab": {
     "base_uri": "https://localhost:8080/"
    },
    "id": "36e0e7oRjjdG",
    "outputId": "7a97d4e3-d75e-4c4e-8725-3fb6380cefa4",
    "scrolled": true
   },
   "outputs": [
    {
     "name": "stdout",
     "output_type": "stream",
     "text": [
      "Loading Music File: ./schubert/schub_d760_1.mid\n"
     ]
    }
   ],
   "source": [
    "#specify the path\n",
    "path='./schubert/'\n",
    "\n",
    "#read all the filenames\n",
    "files=[i for i in os.listdir(path) if i.endswith(\".mid\")]\n",
    "\n",
    "#reading each midi file\n",
    "notes_array = np.array([read_midi(path+files[0])])\n",
    "# notes_array = np.array([read_midi(path+i) for i in files])"
   ]
  },
  {
   "cell_type": "code",
   "execution_count": 15,
   "metadata": {},
   "outputs": [
    {
     "ename": "NameError",
     "evalue": "name 'freq' is not defined",
     "output_type": "error",
     "traceback": [
      "\u001b[0;31m---------------------------------------------------------------------------\u001b[0m",
      "\u001b[0;31mNameError\u001b[0m                                 Traceback (most recent call last)",
      "\u001b[0;32m<ipython-input-15-9f0255cf5ec2>\u001b[0m in \u001b[0;36m<module>\u001b[0;34m\u001b[0m\n\u001b[0;32m----> 1\u001b[0;31m \u001b[0mx_seq\u001b[0m \u001b[0;34m,\u001b[0m \u001b[0my_seq\u001b[0m \u001b[0;34m,\u001b[0m \u001b[0munique_notes\u001b[0m\u001b[0;34m,\u001b[0m\u001b[0mnote_to_int\u001b[0m  \u001b[0;34m=\u001b[0m \u001b[0mGenerate_dataset\u001b[0m\u001b[0;34m.\u001b[0m\u001b[0mget_sequences\u001b[0m\u001b[0;34m(\u001b[0m\u001b[0mnotes_array\u001b[0m\u001b[0;34m,\u001b[0m\u001b[0;36m32\u001b[0m\u001b[0;34m)\u001b[0m\u001b[0;34m\u001b[0m\u001b[0;34m\u001b[0m\u001b[0m\n\u001b[0m",
      "\u001b[0;32m~/Desktop/Music_Gen_AI/Generate_dataset.py\u001b[0m in \u001b[0;36mget_sequences\u001b[0;34m(notes_array, timesteps)\u001b[0m\n\u001b[1;32m      6\u001b[0m \u001b[0;34m\u001b[0m\u001b[0m\n\u001b[1;32m      7\u001b[0m     \u001b[0mnotes_\u001b[0m \u001b[0;34m=\u001b[0m \u001b[0;34m[\u001b[0m\u001b[0melement\u001b[0m \u001b[0;32mfor\u001b[0m \u001b[0mnote_\u001b[0m \u001b[0;32min\u001b[0m \u001b[0mnotes_array\u001b[0m \u001b[0;32mfor\u001b[0m \u001b[0melement\u001b[0m \u001b[0;32min\u001b[0m \u001b[0mnote_\u001b[0m\u001b[0;34m]\u001b[0m\u001b[0;34m\u001b[0m\u001b[0;34m\u001b[0m\u001b[0m\n\u001b[0;32m----> 8\u001b[0;31m     \u001b[0mfreq\u001b[0m \u001b[0;34m=\u001b[0m \u001b[0mdict\u001b[0m\u001b[0;34m(\u001b[0m\u001b[0mCounter\u001b[0m\u001b[0;34m(\u001b[0m\u001b[0mnotes_\u001b[0m\u001b[0;34m)\u001b[0m\u001b[0;34m)\u001b[0m\u001b[0;34m\u001b[0m\u001b[0;34m\u001b[0m\u001b[0m\n\u001b[0m\u001b[1;32m      9\u001b[0m     \u001b[0mfrequent_notes\u001b[0m \u001b[0;34m=\u001b[0m \u001b[0;34m[\u001b[0m\u001b[0mnote_\u001b[0m \u001b[0;32mfor\u001b[0m \u001b[0mnote_\u001b[0m\u001b[0;34m,\u001b[0m \u001b[0mcount\u001b[0m \u001b[0;32min\u001b[0m \u001b[0mfreq\u001b[0m\u001b[0;34m.\u001b[0m\u001b[0mitems\u001b[0m\u001b[0;34m(\u001b[0m\u001b[0;34m)\u001b[0m \u001b[0;32mif\u001b[0m \u001b[0mcount\u001b[0m\u001b[0;34m>=\u001b[0m\u001b[0;36m50\u001b[0m\u001b[0;34m]\u001b[0m\u001b[0;34m\u001b[0m\u001b[0;34m\u001b[0m\u001b[0m\n\u001b[1;32m     10\u001b[0m \u001b[0;34m\u001b[0m\u001b[0m\n",
      "\u001b[0;31mNameError\u001b[0m: name 'freq' is not defined"
     ]
    }
   ],
   "source": [
    "x_seq , y_seq , unique_notes,note_to_int  = Generate_dataset.get_sequences(notes_array,32)"
   ]
  },
  {
   "cell_type": "markdown",
   "metadata": {
    "id": "xJmdQ95isFGQ"
   },
   "source": [
    "**Testing the Model by training sinosoids**\n",
    "\n",
    "\n",
    "\n",
    "*   Uncomment the code chunk below to test o sinosoids \n",
    "*   dont run above code if training for sinosoids. Variable names are mostly same\n",
    "\n"
   ]
  },
  {
   "cell_type": "code",
   "execution_count": null,
   "metadata": {
    "id": "wxaFU5Q8siEX"
   },
   "outputs": [],
   "source": [
    "time = np.linspace(1,10,10000)\n",
    "# print(time)\n",
    "y = np.sin(20*time)\n",
    "# plt.figure();\n",
    "# plt.plot(y)\n",
    "func = np.round(y,decimals=2)\n",
    "# print(y[:100])\n",
    "no_of_timesteps = 32\n",
    "x = []\n",
    "y = []\n",
    "\n",
    "\n",
    "for i in range(0, len(func) - no_of_timesteps-1, 1):\n",
    "    \n",
    "    #preparing input and output sequences\n",
    "    input_ = func[i:i + no_of_timesteps]\n",
    "    output = func[i+no_of_timesteps+1]\n",
    "    \n",
    "    x.append(input_)\n",
    "    y.append(output)\n",
    "        \n",
    "x=np.array(x)\n",
    "y=np.array(y)\n",
    "\n",
    "unique_x = list(set(x.ravel()))\n",
    "x_note_to_int = dict((note_, number) for number, note_ in enumerate(unique_x))\n",
    "x_seq=[]\n",
    "for i in x:\n",
    "    temp=[]\n",
    "    for j in i:\n",
    "        #assigning unique integer to every note\n",
    "        temp.append(x_note_to_int[j])\n",
    "    x_seq.append(temp)\n",
    "    \n",
    "x_seq = np.array(x_seq)\n",
    "\n",
    "unique_y = list(set(y))\n",
    "y_note_to_int = dict((note_, number) for number, note_ in enumerate(unique_y)) \n",
    "y_seq=np.array([x_note_to_int[i] for i in y])\n"
   ]
  },
  {
   "cell_type": "code",
   "execution_count": null,
   "metadata": {
    "id": "aZYxAX17mwp6"
   },
   "outputs": [],
   "source": [
    "import torch\n",
    "from torch import tensor\n",
    "import torch.nn as nn\n",
    "import torch.optim as optim\n",
    "import tensorflow as tf\n",
    "import torch.nn.functional as F\n",
    "import math"
   ]
  },
  {
   "cell_type": "code",
   "execution_count": 3,
   "metadata": {},
   "outputs": [],
   "source": [
    "from MusicDataset import *"
   ]
  },
  {
   "cell_type": "code",
   "execution_count": 4,
   "metadata": {
    "id": "aO_up_-TwhM2"
   },
   "outputs": [
    {
     "ename": "ModuleNotFoundError",
     "evalue": "No module named 'sklearn'",
     "output_type": "error",
     "traceback": [
      "\u001b[0;31m---------------------------------------------------------------------------\u001b[0m",
      "\u001b[0;31mModuleNotFoundError\u001b[0m                       Traceback (most recent call last)",
      "\u001b[0;32m<ipython-input-4-f0fcc71ef8bd>\u001b[0m in \u001b[0;36m<module>\u001b[0;34m\u001b[0m\n\u001b[0;32m----> 1\u001b[0;31m \u001b[0;32mfrom\u001b[0m \u001b[0msklearn\u001b[0m\u001b[0;34m.\u001b[0m\u001b[0mmodel_selection\u001b[0m \u001b[0;32mimport\u001b[0m \u001b[0mtrain_test_split\u001b[0m\u001b[0;34m\u001b[0m\u001b[0;34m\u001b[0m\u001b[0m\n\u001b[0m\u001b[1;32m      2\u001b[0m \u001b[0mx_tr\u001b[0m\u001b[0;34m,\u001b[0m \u001b[0mx_val\u001b[0m\u001b[0;34m,\u001b[0m \u001b[0my_tr\u001b[0m\u001b[0;34m,\u001b[0m \u001b[0my_val\u001b[0m \u001b[0;34m=\u001b[0m \u001b[0mtrain_test_split\u001b[0m\u001b[0;34m(\u001b[0m\u001b[0mx_seq\u001b[0m\u001b[0;34m,\u001b[0m\u001b[0my_seq\u001b[0m\u001b[0;34m,\u001b[0m\u001b[0mtest_size\u001b[0m\u001b[0;34m=\u001b[0m\u001b[0;36m0.2\u001b[0m\u001b[0;34m,\u001b[0m\u001b[0mrandom_state\u001b[0m\u001b[0;34m=\u001b[0m\u001b[0;36m0\u001b[0m\u001b[0;34m)\u001b[0m\u001b[0;34m\u001b[0m\u001b[0;34m\u001b[0m\u001b[0m\n",
      "\u001b[0;31mModuleNotFoundError\u001b[0m: No module named 'sklearn'"
     ]
    }
   ],
   "source": [
    "from sklearn.model_selection import train_test_split\n",
    "x_tr, x_val, y_tr, y_val = train_test_split(x_seq,y_seq,test_size=0.2,random_state=0)"
   ]
  },
  {
   "cell_type": "code",
   "execution_count": null,
   "metadata": {
    "id": "YIqpdgrYzPe-"
   },
   "outputs": [],
   "source": [
    "batch_size = 8\n",
    "train_set = MusicDataset(x_tr,y_tr)\n",
    "trainloader = torch.utils.data.DataLoader(train_set, batch_size=batch_size,\n",
    "                                         shuffle=False, num_workers=2)"
   ]
  },
  {
   "cell_type": "code",
   "execution_count": null,
   "metadata": {
    "id": "rn3ZuUPPT38F"
   },
   "outputs": [],
   "source": [
    "val_set = MusicDataset(x_val,y_val)\n",
    "validationloader = torch.utils.data.DataLoader(val_set, batch_size=1,\n",
    "                                         shuffle=False, num_workers=2)"
   ]
  },
  {
   "cell_type": "markdown",
   "metadata": {
    "id": "0bxVZde_utFh"
   },
   "source": [
    "**DataLoader**"
   ]
  },
  {
   "cell_type": "markdown",
   "metadata": {
    "id": "NnaW5q-HtI4E"
   },
   "source": [
    "**For Wavenet Model (Ignore for now)**"
   ]
  },
  {
   "cell_type": "code",
   "execution_count": null,
   "metadata": {
    "id": "36aRUJG6Fx_p"
   },
   "outputs": [],
   "source": [
    "Net = Wavenet(len(unique_x),blocks=4,layers = 2)"
   ]
  },
  {
   "cell_type": "markdown",
   "metadata": {
    "id": "RARksamCtA7X"
   },
   "source": [
    "**Checking the model**"
   ]
  },
  {
   "cell_type": "code",
   "execution_count": null,
   "metadata": {
    "id": "-16lwuo0eQc2"
   },
   "outputs": [],
   "source": [
    "# Net = Sequence(len(unique_x),32);\n",
    "# input = torch.zeros(1,x_tr[0].shape[0],dtype=torch.int32);\n",
    "# input[0,:] = torch.IntTensor(x_tr[0])\n",
    "# # input = input.permute(0,2,1)\n",
    "\n",
    "# outputs = Net(input)\n",
    "# print(outputs.shape)"
   ]
  },
  {
   "cell_type": "code",
   "execution_count": null,
   "metadata": {
    "id": "X01XYRS83ByK"
   },
   "outputs": [],
   "source": [
    "# Net = Sequence(len(unique_x),32);\n",
    "\n",
    "import torch.optim as optim\n",
    "criterion = nn.CrossEntropyLoss()\n",
    "optimizer = torch.optim.Adam(Net.parameters(), lr=0.001, betas=(0.9, 0.999), eps=1e-08, weight_decay=0, amsgrad=False)\n",
    "loss_history = []"
   ]
  },
  {
   "cell_type": "markdown",
   "metadata": {
    "id": "0-cyi3j7tSG3"
   },
   "source": [
    "**Use the line below when you want to change learning parameters in between**"
   ]
  },
  {
   "cell_type": "code",
   "execution_count": null,
   "metadata": {
    "id": "N5Ft64xRCpNF"
   },
   "outputs": [],
   "source": [
    "optimizer = torch.optim.Adam(Net.parameters(), lr=0.0001, betas=(0.9, 0.999), eps=1e-08, weight_decay=0, amsgrad=False)"
   ]
  },
  {
   "cell_type": "code",
   "execution_count": null,
   "metadata": {
    "id": "45TGOH7G1mvF"
   },
   "outputs": [],
   "source": [
    "''' TRAINING THE MODEL '''\n",
    "correct_preds = 0\n",
    "total_preds = 0\n",
    "for epoch in range(50): \n",
    "    running_loss = 0.0\n",
    "    for i, data in enumerate(trainloader, 0):\n",
    "        input , label = data\n",
    "        optimizer.zero_grad()\n",
    "        output = Net(input)\n",
    "        loss = criterion(output, label)\n",
    "        loss.backward()\n",
    "        optimizer.step()\n",
    "        total_preds += input.shape[0]\n",
    "        correct_preds += torch.sum(torch.argmax(output,1) == label)\n",
    "\n",
    "        running_loss += loss.item()\n",
    "        if i % 200 == 199:\n",
    "            print('[%d, %5d] loss: %.3f' %\n",
    "                  (epoch + 1, i + 1, running_loss / 200))\n",
    "            loss_history.append(running_loss/200)\n",
    "            running_loss = 0.0\n",
    "\n",
    "    report =\"correct predictions  : {} \\n total predictions : {} \\n Accuracy : {}\".format(correct_preds,total_preds, correct_preds/total_preds *100)\n",
    "    print(report)     \n",
    "    correct_preds = 0\n",
    "    total_preds = 0       \n",
    "\n",
    "print('Finished Training')"
   ]
  },
  {
   "cell_type": "code",
   "execution_count": null,
   "metadata": {
    "id": "InzgOHy4SbUx"
   },
   "outputs": [],
   "source": [
    "plt.figure()\n",
    "plt.plot(loss_history)\n",
    "# plt.savefig('/content/drive/MyDrive/schubert/loss_history1.png')\n",
    "# plt.savefig('/content/drive/MyDrive/schubert/sine_wavenet1.png')"
   ]
  },
  {
   "cell_type": "code",
   "execution_count": null,
   "metadata": {
    "id": "H2H4LCj7HJB2"
   },
   "outputs": [],
   "source": [
    "# path='/content/drive/MyDrive/schubert/sine_model.pth'\n",
    "# path='/content/drive/MyDrive/schubert/lstmmodel1.pth'\n",
    "path='/content/drive/MyDrive/schubert/sine_wavenet1.pth'\n",
    "torch.save(Net.state_dict(), path)"
   ]
  },
  {
   "cell_type": "code",
   "execution_count": null,
   "metadata": {
    "id": "EE3NneU78wsw"
   },
   "outputs": [],
   "source": [
    "import random\n",
    "ind = np.random.randint(0,len(unique_x)-1 )\n",
    "\n",
    "random_sine_part = x_val[ind]\n",
    "print(y_val[ind])\n",
    "print(random_sine_part)\n",
    "\n",
    "predictions = Net.predict(random_sine_part,steps=32)\n",
    "predictions = np.hstack( predictions )\n",
    "print(predictions)\n",
    "\n",
    "import matplotlib.pyplot as plt\n",
    "x_int_to_note = dict((number, note_) for number, note_ in enumerate(unique_x)) \n",
    "intial = [x_int_to_note[i] for i in random_sine_part]\n",
    "pred = [x_int_to_note[i] for i in predictions]\n",
    "plt.figure();\n",
    "plt.plot(range(len(intial)),intial)\n",
    "offset = len(random_sine_part)\n",
    "plt.plot(range(offset,len(pred)+offset),pred)\n"
   ]
  },
  {
   "cell_type": "code",
   "execution_count": null,
   "metadata": {
    "id": "nExWQHfDaiNp"
   },
   "outputs": [],
   "source": [
    "# path='/content/drive/MyDrive/schubert/sine_model.pth'\n",
    "# path='/content/drive/MyDrive/schubert/lstmmodel1.pth'\n",
    "path='/content/drive/MyDrive/schubert/sine_wavenet1.pth'\n",
    "# Net = Sequence(len(unique_x),32);\n",
    "Net = Wavenet(len(unique_x),blocks=4,layers = 2)\n",
    "Net.load_state_dict(torch.load(path))\n",
    "\n",
    "correct_preds = 0\n",
    "total_preds = 0\n",
    "for i, data in enumerate(validationloader, 0):\n",
    "  input , label = data\n",
    "  total_preds += 1\n",
    "  break\n",
    "  output = Net.predict(input,steps=1)\n",
    "  if(output[0] == label.numpy()):\n",
    "    correct_preds+=1 \n",
    "\n",
    "report =\"correct predictions  : {} \\n total predictions : {} \\n Accuracy : {}\".format(correct_preds,total_preds, correct_preds/total_preds *100)\n",
    "print(report)\n"
   ]
  }
 ],
 "metadata": {
  "colab": {
   "collapsed_sections": [],
   "name": "Music_Gen_AI.ipynb",
   "provenance": []
  },
  "interpreter": {
   "hash": "31f2aee4e71d21fbe5cf8b01ff0e069b9275f58929596ceb00d14d90e3e16cd6"
  },
  "kernelspec": {
   "display_name": "Python 3",
   "language": "python",
   "name": "python3"
  },
  "language_info": {
   "codemirror_mode": {
    "name": "ipython",
    "version": 3
   },
   "file_extension": ".py",
   "mimetype": "text/x-python",
   "name": "python",
   "nbconvert_exporter": "python",
   "pygments_lexer": "ipython3",
   "version": "3.8.5"
  }
 },
 "nbformat": 4,
 "nbformat_minor": 2
}
